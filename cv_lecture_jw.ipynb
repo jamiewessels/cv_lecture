{
 "cells": [
  {
   "cell_type": "markdown",
   "metadata": {
    "slideshow": {
     "slide_type": "slide"
    }
   },
   "source": [
    "# Prior to Lecture...\n",
    "\n",
    "* \"Continuing\" with Diabetes dataset (regression) and KNearest Neighbors algorithm\n",
    "    * Students will have been working with these all day\n",
    "* Students will have this jupyter notebook to run code alongside teacher\n",
    "* Cold calling "
   ]
  },
  {
   "cell_type": "markdown",
   "metadata": {
    "slideshow": {
     "slide_type": "slide"
    }
   },
   "source": [
    "# Cross Validation Workshop\n",
    "\n",
    "# Objectives: \n",
    "1. SWBAT explain the importance and motivations behind cross-validation \n",
    "1. SWBAT perform a train_test_split in order to create train and holdout sets\n",
    "1. SWBAT use KFold cross-validation IOT estimate the test error for different values of k in a KNN algorithm\n"
   ]
  },
  {
   "cell_type": "code",
   "execution_count": 2,
   "metadata": {
    "slideshow": {
     "slide_type": "skip"
    }
   },
   "outputs": [],
   "source": [
    "#Let's take care of our imports here\n",
    "import numpy as np\n",
    "import pandas as pd\n",
    "import matplotlib.pyplot as plt\n",
    "%matplotlib inline\n",
    "plt.style.use('ggplot')\n",
    "\n",
    "from sklearn.neighbors import KNeighborsClassifier, KNeighborsRegressor\n",
    "from sklearn.model_selection import train_test_split, KFold\n",
    "from sklearn.metrics import mean_squared_error\n",
    "\n",
    "#let's practice with these sklearn datasets\n",
    "from sklearn.datasets import load_breast_cancer, load_diabetes"
   ]
  },
  {
   "cell_type": "markdown",
   "metadata": {
    "slideshow": {
     "slide_type": "slide"
    }
   },
   "source": [
    "# The Constant Battle \n",
    "\n",
    "<img src=\"images/bv_tradeoff.png\" style=\"height: 600px;\" align='center'>\n"
   ]
  },
  {
   "cell_type": "markdown",
   "metadata": {
    "slideshow": {
     "slide_type": "fragment"
    }
   },
   "source": [
    ">Our goal is to maximize performance on unseen data"
   ]
  },
  {
   "cell_type": "markdown",
   "metadata": {
    "slideshow": {
     "slide_type": "slide"
    }
   },
   "source": [
    "# Motivations\n",
    "Rarely do we have a wealth of test (\"unseen\") data! \n",
    "\n",
    "\n",
    "\n",
    "**Cross-validation allows us to:**\n",
    "\n",
    "> Use available training data in order to estimate performance on unseen data"
   ]
  },
  {
   "cell_type": "markdown",
   "metadata": {
    "slideshow": {
     "slide_type": "fragment"
    }
   },
   "source": [
    "This helps us compare methods and tune hyper parameters within our chosen method \n",
    "    *(for example: number of nearest neighbors in a KNN algorithm)*"
   ]
  },
  {
   "cell_type": "markdown",
   "metadata": {
    "slideshow": {
     "slide_type": "slide"
    }
   },
   "source": [
    "## Validation Set Approach \n",
    "\n",
    "<img src=\"images/val_splits.png\" style=\"width: 900px;\" align='center'>"
   ]
  },
  {
   "cell_type": "markdown",
   "metadata": {
    "cell_style": "split",
    "slideshow": {
     "slide_type": "slide"
    }
   },
   "source": [
    "## Validation Set Approach \n",
    "\n",
    "<img src=\"images/val_splits_full.png\" style=\"width: 900px;\" align='center'>"
   ]
  },
  {
   "cell_type": "markdown",
   "metadata": {
    "cell_style": "split",
    "slideshow": {
     "slide_type": "fragment"
    }
   },
   "source": [
    "\n",
    "\n",
    "\n",
    "<br/>\n",
    "<br/>\n",
    "<br/>\n",
    "All the same idea: \n",
    "    \n",
    "   >Train/Validation/Test\n",
    "   \n",
    "   >Train/Test/Holdout\n",
    "   \n",
    "   >Train/Validation/Holdout\n",
    "    "
   ]
  },
  {
   "cell_type": "markdown",
   "metadata": {
    "slideshow": {
     "slide_type": "slide"
    }
   },
   "source": [
    "# Validation Set Approach \n",
    "\n",
    "<img src=\"images/ttsplit_1.png\" style=\"height: 600px;\" align='center'>"
   ]
  },
  {
   "cell_type": "markdown",
   "metadata": {
    "slideshow": {
     "slide_type": "slide"
    }
   },
   "source": [
    "# Validation Set Approach \n",
    "\n",
    "<img src=\"images/ttsplit_2.png\" style=\"height: 600px;\" align='center'>"
   ]
  },
  {
   "cell_type": "markdown",
   "metadata": {
    "slideshow": {
     "slide_type": "slide"
    }
   },
   "source": [
    "# Train-test-split\n",
    "\n",
    "https://scikit-learn.org/stable/modules/generated/sklearn.model_selection.train_test_split.html\n",
    "\n",
    "```\n",
    "from sklearn.model_selection import train_test_split\n",
    "\n",
    "```"
   ]
  },
  {
   "cell_type": "code",
   "execution_count": 3,
   "metadata": {
    "slideshow": {
     "slide_type": "skip"
    }
   },
   "outputs": [
    {
     "name": "stdout",
     "output_type": "stream",
     "text": [
      "Number of Observations: 442\n",
      "Number of Features: 10\n",
      "\n",
      "Features: ['age', 'sex', 'bmi', 'bp', 's1', 's2', 's3', 's4', 's5', 's6']\n"
     ]
    }
   ],
   "source": [
    "#Let's load in the diabetes dataset\n",
    "\n",
    "data = load_diabetes()\n",
    "X = data.data\n",
    "y = data.target\n",
    "feat_names = data.feature_names\n",
    "\n",
    "print(f'Number of Observations: {y.shape[0]}')\n",
    "print(f'Number of Features: {X.shape[1]}')\n",
    "print(f'\\nFeatures: {feat_names}')"
   ]
  },
  {
   "cell_type": "markdown",
   "metadata": {
    "slideshow": {
     "slide_type": "slide"
    }
   },
   "source": [
    "# Train-test-split"
   ]
  },
  {
   "cell_type": "code",
   "execution_count": 4,
   "metadata": {
    "slideshow": {
     "slide_type": "fragment"
    }
   },
   "outputs": [],
   "source": [
    "X_train, X_test, y_train, y_test = train_test_split(X, y, test_size = 0.2)"
   ]
  },
  {
   "cell_type": "markdown",
   "metadata": {
    "slideshow": {
     "slide_type": "fragment"
    }
   },
   "source": [
    "**Important:** Always check the shapes of your new sets!  "
   ]
  },
  {
   "cell_type": "code",
   "execution_count": 5,
   "metadata": {
    "slideshow": {
     "slide_type": "fragment"
    }
   },
   "outputs": [
    {
     "name": "stdout",
     "output_type": "stream",
     "text": [
      "X_train: (353, 10), X_test: (89, 10)\n",
      "y_train: (353,),    y_test: (89,)\n"
     ]
    }
   ],
   "source": [
    "print(f'X_train: {X_train.shape}, X_test: {X_test.shape}')\n",
    "print(f'y_train: {y_train.shape},    y_test: {y_test.shape}')"
   ]
  },
  {
   "cell_type": "markdown",
   "metadata": {
    "slideshow": {
     "slide_type": "slide"
    }
   },
   "source": [
    "# Example in Action:"
   ]
  },
  {
   "cell_type": "code",
   "execution_count": 6,
   "metadata": {
    "slideshow": {
     "slide_type": "fragment"
    }
   },
   "outputs": [],
   "source": [
    "#test out different ks for KNN\n",
    "k_neighbs = np.arange(1, 41, 2)\n",
    "\n",
    "#placeholder for train and test scores\n",
    "train_mses = np.empty(len(k_neighbs)) \n",
    "test_mses = np.empty(len(k_neighbs)) "
   ]
  },
  {
   "cell_type": "code",
   "execution_count": 7,
   "metadata": {
    "slideshow": {
     "slide_type": "fragment"
    }
   },
   "outputs": [],
   "source": [
    "for idx, k in enumerate(k_neighbs):\n",
    "    \n",
    "    #instantiate knn - train on X_train and y_train\n",
    "    knn = KNeighborsRegressor(n_neighbors=k, n_jobs = -1).fit(X_train, y_train) \n",
    "    \n",
    "    #predict on train and test data\n",
    "    yhat_train, yhat_test = knn.predict(X_train), knn.predict(X_test)\n",
    "    \n",
    "    #calculate mse for train and test predictions, populate respective arrays\n",
    "    train_mses[idx] = mean_squared_error(y_train, yhat_train)\n",
    "    test_mses[idx] = mean_squared_error(y_test, yhat_test)"
   ]
  },
  {
   "cell_type": "code",
   "execution_count": 8,
   "metadata": {
    "slideshow": {
     "slide_type": "notes"
    }
   },
   "outputs": [
    {
     "data": {
      "image/png": "[encoded data removed]",
      "text/plain": [
       "<Figure size 576x576 with 1 Axes>"
      ]
     },
     "metadata": {},
     "output_type": "display_data"
    }
   ],
   "source": [
    "fig, ax = plt.subplots(figsize = (8, 8))\n",
    "ax.plot(k_neighbs, train_mses, label = 'Train error')\n",
    "ax.plot(k_neighbs, test_mses, label = 'Test error')\n",
    "\n",
    "min_mse_test = k_neighbs[np.argmin(test_mses)]\n",
    "ax.axvline(min_mse_test, linestyle = 'dashed', label = f'optimal k: {min_mse_test}', color = 'k')\n",
    "ax.set_ylabel('Mean Squared Error')\n",
    "ax.set_xlabel('k Nearest Neighbors (1/Complexity)')\n",
    "ax.set_title('MSE vs. Number Nearest Neighbors')\n",
    "ax.legend();"
   ]
  },
  {
   "cell_type": "markdown",
   "metadata": {
    "slideshow": {
     "slide_type": "slide"
    }
   },
   "source": [
    "# Example in Action:\n",
    "\n",
    "<img src=\"images/knnreg_mse_vs_ks.jpg\" style=\"width: 900px;\" align='center'>"
   ]
  },
  {
   "cell_type": "markdown",
   "metadata": {
    "slideshow": {
     "slide_type": "slide"
    }
   },
   "source": [
    "# Validation Set Approach\n",
    "\n"
   ]
  },
  {
   "cell_type": "markdown",
   "metadata": {
    "slideshow": {
     "slide_type": "fragment"
    }
   },
   "source": [
    "**Drawbacks:**\n",
    "* Results may be highly dependent on how original data was split, but we don't have any information on that source of variability! "
   ]
  },
  {
   "cell_type": "markdown",
   "metadata": {
    "slideshow": {
     "slide_type": "slide"
    }
   },
   "source": [
    "# Cross-validation"
   ]
  },
  {
   "cell_type": "markdown",
   "metadata": {
    "slideshow": {
     "slide_type": "fragment"
    }
   },
   "source": [
    "\n",
    "* Check out other CV options: https://scikit-learn.org/stable/modules/cross_validation.html#cross-validation-iterators\n",
    "> ex: Stratified KFold preserves class balance\n",
    "\n",
    "* Grid Search techniques: https://scikit-learn.org/stable/modules/grid_search.html\n",
    "> For exploring hyperparameter space\n",
    "\n",
    "* Sklearn Optimize: https://scikit-optimize.github.io/stable/\n",
    "> Another approach to exploring parameter space"
   ]
  },
  {
   "cell_type": "markdown",
   "metadata": {
    "cell_style": "split",
    "slideshow": {
     "slide_type": "slide"
    }
   },
   "source": [
    "\n",
    "# KFold Cross Validation\n",
    "\n",
    "\n",
    "<img src=\"images/kfold.png\" style=\"height: 700px;\" align='center'>"
   ]
  },
  {
   "cell_type": "markdown",
   "metadata": {
    "cell_style": "split",
    "slideshow": {
     "slide_type": "fragment"
    }
   },
   "source": [
    "\n",
    "<br />\n",
    "<br />\n",
    "\n",
    "1. Randomly divide observations into K groups or \"Folds\"\n",
    "1. One fold treated as the test set, and model is fit on the remaining k-1 folds\n",
    "1. Error is computed on the test fold\n",
    "1. Process repeated k times, each time a different fold acts as the \"test set\"\n",
    "1. Result: k estimates of the test error --> averaged"
   ]
  },
  {
   "cell_type": "markdown",
   "metadata": {
    "slideshow": {
     "slide_type": "fragment"
    }
   },
   "source": [
    "\n",
    "https://scikit-learn.org/stable/modules/generated/sklearn.model_selection.KFold.html\n"
   ]
  },
  {
   "cell_type": "markdown",
   "metadata": {
    "slideshow": {
     "slide_type": "slide"
    }
   },
   "source": [
    "\n",
    "# Example in Action: \n",
    "\n",
    "Continue with the Diabetes Dataset"
   ]
  },
  {
   "cell_type": "markdown",
   "metadata": {
    "slideshow": {
     "slide_type": "slide"
    }
   },
   "source": [
    "# Example in Action: "
   ]
  },
  {
   "cell_type": "code",
   "execution_count": 9,
   "metadata": {
    "slideshow": {
     "slide_type": "fragment"
    }
   },
   "outputs": [],
   "source": [
    "#instantiate KFold\n",
    "kf = KFold(n_splits=5, shuffle=False) #note - you will actually want to set shuffle = True!"
   ]
  },
  {
   "cell_type": "code",
   "execution_count": 10,
   "metadata": {
    "slideshow": {
     "slide_type": "fragment"
    }
   },
   "outputs": [
    {
     "name": "stdout",
     "output_type": "stream",
     "text": [
      "\n",
      "\n",
      " TEST: [ 0  1  2  3  4  5  6  7  8  9 10 11 12 13 14 15 16 17 18 19 20 21 22 23\n",
      " 24 25 26 27 28 29 30 31 32 33 34 35 36 37 38 39 40 41 42 43 44 45 46 47\n",
      " 48 49 50 51 52 53 54 55 56 57 58 59 60 61 62 63 64 65 66 67 68 69 70] \n",
      " TRAIN: [ 71  72  73  74  75  76  77  78  79  80  81  82  83  84  85  86  87  88\n",
      "  89  90  91  92  93  94  95  96  97  98  99 100 101 102 103 104 105 106\n",
      " 107 108 109 110 111 112 113 114 115 116 117 118 119 120 121 122 123 124\n",
      " 125 126 127 128 129 130 131 132 133 134 135 136 137 138 139 140 141 142\n",
      " 143 144 145 146 147 148 149 150 151 152 153 154 155 156 157 158 159 160\n",
      " 161 162 163 164 165 166 167 168 169 170 171 172 173 174 175 176 177 178\n",
      " 179 180 181 182 183 184 185 186 187 188 189 190 191 192 193 194 195 196\n",
      " 197 198 199 200 201 202 203 204 205 206 207 208 209 210 211 212 213 214\n",
      " 215 216 217 218 219 220 221 222 223 224 225 226 227 228 229 230 231 232\n",
      " 233 234 235 236 237 238 239 240 241 242 243 244 245 246 247 248 249 250\n",
      " 251 252 253 254 255 256 257 258 259 260 261 262 263 264 265 266 267 268\n",
      " 269 270 271 272 273 274 275 276 277 278 279 280 281 282 283 284 285 286\n",
      " 287 288 289 290 291 292 293 294 295 296 297 298 299 300 301 302 303 304\n",
      " 305 306 307 308 309 310 311 312 313 314 315 316 317 318 319 320 321 322\n",
      " 323 324 325 326 327 328 329 330 331 332 333 334 335 336 337 338 339 340\n",
      " 341 342 343 344 345 346 347 348 349 350 351 352]\n",
      "\n",
      "\n",
      " TEST: [ 71  72  73  74  75  76  77  78  79  80  81  82  83  84  85  86  87  88\n",
      "  89  90  91  92  93  94  95  96  97  98  99 100 101 102 103 104 105 106\n",
      " 107 108 109 110 111 112 113 114 115 116 117 118 119 120 121 122 123 124\n",
      " 125 126 127 128 129 130 131 132 133 134 135 136 137 138 139 140 141] \n",
      " TRAIN: [  0   1   2   3   4   5   6   7   8   9  10  11  12  13  14  15  16  17\n",
      "  18  19  20  21  22  23  24  25  26  27  28  29  30  31  32  33  34  35\n",
      "  36  37  38  39  40  41  42  43  44  45  46  47  48  49  50  51  52  53\n",
      "  54  55  56  57  58  59  60  61  62  63  64  65  66  67  68  69  70 142\n",
      " 143 144 145 146 147 148 149 150 151 152 153 154 155 156 157 158 159 160\n",
      " 161 162 163 164 165 166 167 168 169 170 171 172 173 174 175 176 177 178\n",
      " 179 180 181 182 183 184 185 186 187 188 189 190 191 192 193 194 195 196\n",
      " 197 198 199 200 201 202 203 204 205 206 207 208 209 210 211 212 213 214\n",
      " 215 216 217 218 219 220 221 222 223 224 225 226 227 228 229 230 231 232\n",
      " 233 234 235 236 237 238 239 240 241 242 243 244 245 246 247 248 249 250\n",
      " 251 252 253 254 255 256 257 258 259 260 261 262 263 264 265 266 267 268\n",
      " 269 270 271 272 273 274 275 276 277 278 279 280 281 282 283 284 285 286\n",
      " 287 288 289 290 291 292 293 294 295 296 297 298 299 300 301 302 303 304\n",
      " 305 306 307 308 309 310 311 312 313 314 315 316 317 318 319 320 321 322\n",
      " 323 324 325 326 327 328 329 330 331 332 333 334 335 336 337 338 339 340\n",
      " 341 342 343 344 345 346 347 348 349 350 351 352]\n",
      "\n",
      "\n",
      " TEST: [142 143 144 145 146 147 148 149 150 151 152 153 154 155 156 157 158 159\n",
      " 160 161 162 163 164 165 166 167 168 169 170 171 172 173 174 175 176 177\n",
      " 178 179 180 181 182 183 184 185 186 187 188 189 190 191 192 193 194 195\n",
      " 196 197 198 199 200 201 202 203 204 205 206 207 208 209 210 211 212] \n",
      " TRAIN: [  0   1   2   3   4   5   6   7   8   9  10  11  12  13  14  15  16  17\n",
      "  18  19  20  21  22  23  24  25  26  27  28  29  30  31  32  33  34  35\n",
      "  36  37  38  39  40  41  42  43  44  45  46  47  48  49  50  51  52  53\n",
      "  54  55  56  57  58  59  60  61  62  63  64  65  66  67  68  69  70  71\n",
      "  72  73  74  75  76  77  78  79  80  81  82  83  84  85  86  87  88  89\n",
      "  90  91  92  93  94  95  96  97  98  99 100 101 102 103 104 105 106 107\n",
      " 108 109 110 111 112 113 114 115 116 117 118 119 120 121 122 123 124 125\n",
      " 126 127 128 129 130 131 132 133 134 135 136 137 138 139 140 141 213 214\n",
      " 215 216 217 218 219 220 221 222 223 224 225 226 227 228 229 230 231 232\n",
      " 233 234 235 236 237 238 239 240 241 242 243 244 245 246 247 248 249 250\n",
      " 251 252 253 254 255 256 257 258 259 260 261 262 263 264 265 266 267 268\n",
      " 269 270 271 272 273 274 275 276 277 278 279 280 281 282 283 284 285 286\n",
      " 287 288 289 290 291 292 293 294 295 296 297 298 299 300 301 302 303 304\n",
      " 305 306 307 308 309 310 311 312 313 314 315 316 317 318 319 320 321 322\n",
      " 323 324 325 326 327 328 329 330 331 332 333 334 335 336 337 338 339 340\n",
      " 341 342 343 344 345 346 347 348 349 350 351 352]\n",
      "\n",
      "\n",
      " TEST: [213 214 215 216 217 218 219 220 221 222 223 224 225 226 227 228 229 230\n",
      " 231 232 233 234 235 236 237 238 239 240 241 242 243 244 245 246 247 248\n",
      " 249 250 251 252 253 254 255 256 257 258 259 260 261 262 263 264 265 266\n",
      " 267 268 269 270 271 272 273 274 275 276 277 278 279 280 281 282] \n",
      " TRAIN: [  0   1   2   3   4   5   6   7   8   9  10  11  12  13  14  15  16  17\n",
      "  18  19  20  21  22  23  24  25  26  27  28  29  30  31  32  33  34  35\n",
      "  36  37  38  39  40  41  42  43  44  45  46  47  48  49  50  51  52  53\n",
      "  54  55  56  57  58  59  60  61  62  63  64  65  66  67  68  69  70  71\n",
      "  72  73  74  75  76  77  78  79  80  81  82  83  84  85  86  87  88  89\n",
      "  90  91  92  93  94  95  96  97  98  99 100 101 102 103 104 105 106 107\n",
      " 108 109 110 111 112 113 114 115 116 117 118 119 120 121 122 123 124 125\n",
      " 126 127 128 129 130 131 132 133 134 135 136 137 138 139 140 141 142 143\n",
      " 144 145 146 147 148 149 150 151 152 153 154 155 156 157 158 159 160 161\n",
      " 162 163 164 165 166 167 168 169 170 171 172 173 174 175 176 177 178 179\n",
      " 180 181 182 183 184 185 186 187 188 189 190 191 192 193 194 195 196 197\n",
      " 198 199 200 201 202 203 204 205 206 207 208 209 210 211 212 283 284 285\n",
      " 286 287 288 289 290 291 292 293 294 295 296 297 298 299 300 301 302 303\n",
      " 304 305 306 307 308 309 310 311 312 313 314 315 316 317 318 319 320 321\n",
      " 322 323 324 325 326 327 328 329 330 331 332 333 334 335 336 337 338 339\n",
      " 340 341 342 343 344 345 346 347 348 349 350 351 352]\n",
      "\n",
      "\n",
      " TEST: [283 284 285 286 287 288 289 290 291 292 293 294 295 296 297 298 299 300\n",
      " 301 302 303 304 305 306 307 308 309 310 311 312 313 314 315 316 317 318\n",
      " 319 320 321 322 323 324 325 326 327 328 329 330 331 332 333 334 335 336\n",
      " 337 338 339 340 341 342 343 344 345 346 347 348 349 350 351 352] \n",
      " TRAIN: [  0   1   2   3   4   5   6   7   8   9  10  11  12  13  14  15  16  17\n",
      "  18  19  20  21  22  23  24  25  26  27  28  29  30  31  32  33  34  35\n",
      "  36  37  38  39  40  41  42  43  44  45  46  47  48  49  50  51  52  53\n",
      "  54  55  56  57  58  59  60  61  62  63  64  65  66  67  68  69  70  71\n",
      "  72  73  74  75  76  77  78  79  80  81  82  83  84  85  86  87  88  89\n",
      "  90  91  92  93  94  95  96  97  98  99 100 101 102 103 104 105 106 107\n",
      " 108 109 110 111 112 113 114 115 116 117 118 119 120 121 122 123 124 125\n",
      " 126 127 128 129 130 131 132 133 134 135 136 137 138 139 140 141 142 143\n",
      " 144 145 146 147 148 149 150 151 152 153 154 155 156 157 158 159 160 161\n",
      " 162 163 164 165 166 167 168 169 170 171 172 173 174 175 176 177 178 179\n",
      " 180 181 182 183 184 185 186 187 188 189 190 191 192 193 194 195 196 197\n",
      " 198 199 200 201 202 203 204 205 206 207 208 209 210 211 212 213 214 215\n",
      " 216 217 218 219 220 221 222 223 224 225 226 227 228 229 230 231 232 233\n",
      " 234 235 236 237 238 239 240 241 242 243 244 245 246 247 248 249 250 251\n",
      " 252 253 254 255 256 257 258 259 260 261 262 263 264 265 266 267 268 269\n",
      " 270 271 272 273 274 275 276 277 278 279 280 281 282]\n"
     ]
    }
   ],
   "source": [
    "#calling kf.split on TRAIN matrix\n",
    "for train_index, test_index in kf.split(X_train):\n",
    "    print(\"\\n\\n TEST:\", test_index, \"\\n TRAIN:\", train_index)"
   ]
  },
  {
   "cell_type": "markdown",
   "metadata": {
    "slideshow": {
     "slide_type": "skip"
    }
   },
   "source": [
    "#### Let's functionalize this so that we can eventually look at different k's\n"
   ]
  },
  {
   "cell_type": "code",
   "execution_count": 11,
   "metadata": {
    "slideshow": {
     "slide_type": "slide"
    }
   },
   "outputs": [],
   "source": [
    "def calc_kfold_metrics(X, y, estimator, n_splits=5, metric=mean_squared_error):\n",
    "    \n",
    "    #instantiate KFold\n",
    "    kf = KFold(n_splits=n_splits, shuffle=True)\n",
    "    \n",
    "    #placeholder for train and test mses\n",
    "    train_mses = np.empty(kf.n_splits) \n",
    "    test_mses = np.empty(kf.n_splits)\n",
    "    \n",
    "    #iterate through kf.split(X_train)\n",
    "    for idx, (train_index, test_index) in enumerate(kf.split(X=X)):\n",
    "        \n",
    "        #use indexing to define training folds and test fold for each split\n",
    "        X_train_folds, y_train_folds = X[train_index], y[train_index]\n",
    "        X_test_fold, y_test_fold = X[test_index], y[test_index]\n",
    "\n",
    "        #fit model on TRAIN folds only\n",
    "        model = estimator.fit(X_train_folds, y_train_folds)\n",
    "\n",
    "        #calculate train and test scores\n",
    "        train_mse = mean_squared_error(y_train_folds, model.predict(X_train_folds))\n",
    "        train_mses[idx] = train_mse\n",
    "\n",
    "        test_mse = mean_squared_error(y_test_fold, model.predict(X_test_fold))\n",
    "        test_mses[idx] = test_mse\n",
    "\n",
    "    return train_mses, test_mses"
   ]
  },
  {
   "cell_type": "code",
   "execution_count": 12,
   "metadata": {
    "slideshow": {
     "slide_type": "fragment"
    }
   },
   "outputs": [
    {
     "name": "stdout",
     "output_type": "stream",
     "text": [
      "Train Scores: [2905.56195416 2909.64295762 2574.58994197 2936.27722454 2904.98198172]\n",
      "Test Scores: [2537.96298452 3244.65231056 4241.75916657 3579.97083825 3123.27497048]\n"
     ]
    }
   ],
   "source": [
    "#let's test it out for a KNN(k = 11) \n",
    "train_mses, test_mses = calc_kfold_metrics(X_train, y_train, estimator = KNeighborsRegressor(n_neighbors=11))\n",
    "\n",
    "print(f'Train Scores: {train_mses}')\n",
    "print(f'Test Scores: {test_mses}')"
   ]
  },
  {
   "cell_type": "code",
   "execution_count": 13,
   "metadata": {
    "slideshow": {
     "slide_type": "fragment"
    }
   },
   "outputs": [
    {
     "name": "stdout",
     "output_type": "stream",
     "text": [
      "Avg Train MSE: 2846\n",
      "Avg Test MSE: 3345\n"
     ]
    }
   ],
   "source": [
    "#we can average the scores to get an overall estimate\n",
    "print(f'Avg Train MSE: {int(np.mean(train_mses))}')\n",
    "print(f'Avg Test MSE: {int(np.mean(test_mses))}')"
   ]
  },
  {
   "cell_type": "code",
   "execution_count": 14,
   "metadata": {
    "slideshow": {
     "slide_type": "skip"
    }
   },
   "outputs": [],
   "source": [
    "#function for testing different ks in a KNN\n",
    "\n",
    "def kfold_knn_tuning(ks, X, y, n_splits=5, metric=mean_squared_error):\n",
    "    \n",
    "    #placeholder for train and test mses with shape: number of ks by n_splits\n",
    "    train_mses = np.empty((len(ks),n_splits))\n",
    "    test_mses = np.empty((len(ks), n_splits))\n",
    "    \n",
    "    #iterate through different values of k\n",
    "    for idx, k in enumerate(ks):\n",
    "        \n",
    "        #each error array will have a length of n_splits\n",
    "        train_err, test_err = calc_kfold_metrics(X, y, n_splits = n_splits, \n",
    "                                                 estimator = KNeighborsRegressor(n_neighbors = k))\n",
    "        #populate that row with the training and test errors for that specific k\n",
    "        train_mses[idx, :] = train_err\n",
    "        test_mses[idx, :] = test_err  \n",
    "        \n",
    "    return train_mses, test_mses"
   ]
  },
  {
   "cell_type": "code",
   "execution_count": 15,
   "metadata": {
    "slideshow": {
     "slide_type": "skip"
    }
   },
   "outputs": [],
   "source": [
    "ks = ks = np.arange(1, 25, 2)\n",
    "train_mses, test_mses = kfold_knn_tuning(ks, X_train, y_train)"
   ]
  },
  {
   "cell_type": "code",
   "execution_count": 16,
   "metadata": {
    "slideshow": {
     "slide_type": "skip"
    }
   },
   "outputs": [],
   "source": [
    "#function for plotting the kfold tuning process\n",
    "\n",
    "def plot_knn_tuning(ax, ks, X, y, n_splits=5, metric=mean_squared_error):\n",
    "    #call tuning function\n",
    "    train_mses, test_mses = kfold_knn_tuning(ks, X_train, y_train)\n",
    "    \n",
    "    #calculate the average errors for each k (collapse columns)\n",
    "    avg_test = np.mean(test_mses, axis = 1)\n",
    "    \n",
    "    #plot\n",
    "    ax.plot(ks, test_mses, color = 'cornflowerblue')\n",
    "    ax.plot(ks, avg_test, color = 'k', label = 'Average Test Error \\n (across folds)')\n",
    "    ax.set_ylabel('Test '+ metric.__name__)\n",
    "    ax.set_xlabel('K Nearest Neighbors')\n",
    "    ax.set_title('Kfold Cross Validation: KNN Tuning')\n",
    "    \n",
    "    optimal_k = ks[np.argmin(avg_test)]\n",
    "    ax.axvline(optimal_k, linestyle = 'dashed', color = 'k', label = f'optimal k: {optimal_k}')\n",
    "    ax.legend(fontsize = 12)"
   ]
  },
  {
   "cell_type": "code",
   "execution_count": 17,
   "metadata": {
    "slideshow": {
     "slide_type": "notes"
    }
   },
   "outputs": [
    {
     "data": {
      "image/png": "[encoded data removed]",
      "text/plain": [
       "<Figure size 720x720 with 1 Axes>"
      ]
     },
     "metadata": {},
     "output_type": "display_data"
    }
   ],
   "source": [
    "fig, ax = plt.subplots(figsize = (10,10))\n",
    "plot_knn_tuning(ax, ks, X_train, y_train)\n",
    "# fig.savefig('images/knn_tuning_kfold.png')"
   ]
  },
  {
   "cell_type": "markdown",
   "metadata": {
    "cell_style": "split",
    "slideshow": {
     "slide_type": "slide"
    }
   },
   "source": [
    "# Results from KFold CV \n",
    "\n",
    "<img src=\"images/knn_tuning_kfold.png\" style=\"height: 800px;\" align='center'>"
   ]
  },
  {
   "cell_type": "markdown",
   "metadata": {
    "cell_style": "split",
    "slideshow": {
     "slide_type": "fragment"
    }
   },
   "source": [
    "<br/>\n",
    "<br/>\n",
    "<br/>\n",
    "<br/>\n",
    "<br/>\n",
    "\n",
    "Why might this be more powerful than the simple validation set approach?"
   ]
  },
  {
   "cell_type": "markdown",
   "metadata": {
    "slideshow": {
     "slide_type": "slide"
    }
   },
   "source": [
    "# Last step: report holdout metric! \n",
    "\n",
    "Use original holdout data from train_test_split\n"
   ]
  },
  {
   "cell_type": "code",
   "execution_count": 18,
   "metadata": {
    "slideshow": {
     "slide_type": "fragment"
    }
   },
   "outputs": [
    {
     "name": "stdout",
     "output_type": "stream",
     "text": [
      "Holdout MSE: 3175\n"
     ]
    }
   ],
   "source": [
    "holdout_score = mean_squared_error(y_test, KNeighborsRegressor(13).fit(X_train, y_train).predict(X_test))\n",
    "                                   \n",
    "print(f'Holdout MSE: {int(holdout_score)}')"
   ]
  },
  {
   "cell_type": "markdown",
   "metadata": {
    "slideshow": {
     "slide_type": "slide"
    }
   },
   "source": [
    "# Check for Understanding \n",
    "\n",
    "* My model performs really well on my training data, but when I try to predict on new data it is horrible!  What's going on? "
   ]
  },
  {
   "cell_type": "markdown",
   "metadata": {
    "slideshow": {
     "slide_type": "fragment"
    }
   },
   "source": [
    "* What are the benefits of using cross-validation? "
   ]
  },
  {
   "cell_type": "markdown",
   "metadata": {
    "slideshow": {
     "slide_type": "fragment"
    }
   },
   "source": [
    "* I plan to use KFold cross validation to estimate my test error.  Should I still perform a train_test_split at all during the process? "
   ]
  },
  {
   "cell_type": "markdown",
   "metadata": {
    "slideshow": {
     "slide_type": "slide"
    }
   },
   "source": [
    "# Other Resources\n",
    "\n",
    "* Check out other CV options: https://scikit-learn.org/stable/modules/cross_validation.html#cross-validation-iterators\n",
    "> ex: Stratified KFold preserves class balance\n",
    "\n",
    "* Grid Search techniques: https://scikit-learn.org/stable/modules/grid_search.html\n",
    "> For exploring hyperparameter space\n",
    "\n",
    "* Sklearn Optimize: https://scikit-optimize.github.io/stable/\n",
    "> Another approach to exploring parameter space"
   ]
  },
  {
   "cell_type": "markdown",
   "metadata": {
    "slideshow": {
     "slide_type": "slide"
    }
   },
   "source": [
    "# Your Task\n",
    "\n",
    "\n",
    "Use KFold CV to tune a knn on sklearn's breast cancer dataset (starter code provided). \n",
    "\n",
    "Hints: \n",
    "> * Can you use the same metric? Why or why not? \n",
    "> * Create a hold out set for the very end! \n",
    "> * In your train_test_split, consider using stratify = y to preserve class balance (maintain same proportions of positive/negative classes within your splits)\n"
   ]
  },
  {
   "cell_type": "markdown",
   "metadata": {
    "slideshow": {
     "slide_type": "slide"
    }
   },
   "source": [
    "# Questions? "
   ]
  },
  {
   "cell_type": "code",
   "execution_count": 19,
   "metadata": {
    "cell_style": "center",
    "slideshow": {
     "slide_type": "skip"
    }
   },
   "outputs": [],
   "source": [
    "#don't change\n",
    "\n",
    "\n",
    "from traitlets.config.manager import BaseJSONConfigManager\n",
    "from pathlib import Path\n",
    "path = Path.home() / \".jupyter\" / \"nbconfig\"\n",
    "cm = BaseJSONConfigManager(config_dir=str(path))\n",
    "tmp = cm.update(\n",
    "        \"rise\",\n",
    "        {\n",
    "            \"theme\": \"moon\",\n",
    "            \"transition\": \"fade\",\n",
    "            \"start_slideshow_at\": \"selected\",\n",
    "            \"autolaunch\": False,\n",
    "            \"width\": \"100%\",\n",
    "            \"height\": \"100%\",\n",
    "            \"header\": \"\",\n",
    "            \"footer\":\"\",\n",
    "            \"scroll\": True,\n",
    "            \"enable_chalkboard\": True,\n",
    "            \"slideNumber\": True,\n",
    "            \"center\": False,\n",
    "            \"controlsLayout\": \"edges\",\n",
    "            \"slideNumber\": True,\n",
    "            \"hash\": True,\n",
    "        }\n",
    "    )"
   ]
  }
 ],
 "metadata": {
  "celltoolbar": "Slideshow",
  "kernelspec": {
   "display_name": "Python 3",
   "language": "python",
   "name": "python3"
  },
  "language_info": {
   "codemirror_mode": {
    "name": "ipython",
    "version": 3
   },
   "file_extension": ".py",
   "mimetype": "text/x-python",
   "name": "python",
   "nbconvert_exporter": "python",
   "pygments_lexer": "ipython3",
   "version": "3.7.6"
  }
 },
 "nbformat": 4,
 "nbformat_minor": 4
}
